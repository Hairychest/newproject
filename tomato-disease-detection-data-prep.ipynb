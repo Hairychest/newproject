{
 "cells": [
  {
   "cell_type": "code",
   "execution_count": 1,
   "id": "6edd840c",
   "metadata": {
    "_cell_guid": "b1076dfc-b9ad-4769-8c92-a6c4dae69d19",
    "_uuid": "8f2839f25d086af736a60e9eeb907d3b93b6e0e5",
    "execution": {
     "iopub.execute_input": "2023-05-07T09:01:18.310551Z",
     "iopub.status.busy": "2023-05-07T09:01:18.310143Z",
     "iopub.status.idle": "2023-05-07T09:01:18.324763Z",
     "shell.execute_reply": "2023-05-07T09:01:18.323725Z"
    },
    "papermill": {
     "duration": 0.020866,
     "end_time": "2023-05-07T09:01:18.327074",
     "exception": false,
     "start_time": "2023-05-07T09:01:18.306208",
     "status": "completed"
    },
    "tags": []
   },
   "outputs": [
    {
     "name": "stdout",
     "output_type": "stream",
     "text": [
      "Successfully created Directories\n"
     ]
    }
   ],
   "source": [
    "import os\n",
    "import shutil\n",
    "import tqdm\n",
    "\n",
    "\n",
    "cols = ['Early_Blight','Healthy','Late_Blight','Other','ToLCV','Invad'] \n",
    "try:\n",
    "    os.mkdir('/kaggle/working/tmp')\n",
    "    os.mkdir('/kaggle/working/tmp/train')\n",
    "    os.mkdir('/kaggle/working/tmp/val')\n",
    "    \n",
    "    for col in cols:\n",
    "        os.mkdir(f'/kaggle/working/tmp/train/{col}')\n",
    "        os.mkdir(f'/kaggle/working/tmp/val/{col}')\n",
    "    print('Successfully created Directories')\n",
    "except FileExistsError:\n",
    "    print('Already created Directories')\n",
    "    \n",
    "def transfer_files(source,final):\n",
    "    for fname in tqdm.tqdm(os.listdir(source)):\n",
    "        shutil.copy(os.path.join(source,fname),final)"
   ]
  },
  {
   "cell_type": "code",
   "execution_count": 2,
   "id": "5e7bb4fa",
   "metadata": {
    "execution": {
     "iopub.execute_input": "2023-05-07T09:01:18.333528Z",
     "iopub.status.busy": "2023-05-07T09:01:18.332905Z",
     "iopub.status.idle": "2023-05-07T09:09:53.059647Z",
     "shell.execute_reply": "2023-05-07T09:09:53.058204Z"
    },
    "papermill": {
     "duration": 514.73276,
     "end_time": "2023-05-07T09:09:53.062067",
     "exception": false,
     "start_time": "2023-05-07T09:01:18.329307",
     "status": "completed"
    },
    "tags": []
   },
   "outputs": [
    {
     "name": "stderr",
     "output_type": "stream",
     "text": [
      "100%|██████████| 4053/4053 [00:33<00:00, 121.12it/s]\n",
      "100%|██████████| 3854/3854 [00:36<00:00, 106.79it/s]\n",
      "100%|██████████| 2655/2655 [00:30<00:00, 85.86it/s]\n",
      "100%|██████████| 3478/3478 [00:42<00:00, 80.97it/s]\n",
      "100%|██████████| 7877/7877 [01:34<00:00, 83.44it/s] \n",
      "100%|██████████| 4091/4091 [00:41<00:00, 98.68it/s]\n",
      "100%|██████████| 3389/3389 [00:30<00:00, 109.43it/s]\n",
      "100%|██████████| 4323/4323 [00:46<00:00, 93.21it/s] \n",
      "100%|██████████| 3688/3688 [00:37<00:00, 98.72it/s] \n",
      "100%|██████████| 4355/4355 [00:46<00:00, 92.97it/s]\n",
      "100%|██████████| 1998/1998 [00:16<00:00, 119.08it/s]\n",
      "100%|██████████| 2003/2003 [00:17<00:00, 117.82it/s]\n",
      "100%|██████████| 2004/2004 [00:15<00:00, 126.04it/s]\n",
      "100%|██████████| 13/13 [00:00<00:00, 80.25it/s]\n",
      "100%|██████████| 2/2 [00:00<00:00, 159.03it/s]\n",
      "100%|██████████| 12/12 [00:00<00:00, 67.06it/s]\n",
      "100%|██████████| 15/15 [00:00<00:00, 91.37it/s] \n",
      "100%|██████████| 12/12 [00:00<00:00, 144.54it/s]\n",
      "100%|██████████| 13/13 [00:00<00:00, 93.22it/s]\n",
      "100%|██████████| 8/8 [00:00<00:00, 154.41it/s]\n",
      "100%|██████████| 12/12 [00:00<00:00, 99.04it/s]\n",
      "100%|██████████| 2/2 [00:00<00:00, 171.78it/s]\n",
      "100%|██████████| 11/11 [00:00<00:00, 162.51it/s]\n",
      "100%|██████████| 1563/1563 [00:12<00:00, 126.56it/s]\n",
      "100%|██████████| 221/221 [00:01<00:00, 169.52it/s]\n",
      "100%|██████████| 222/222 [00:01<00:00, 164.85it/s]\n",
      "100%|██████████| 225/225 [00:01<00:00, 159.01it/s]\n"
     ]
    }
   ],
   "source": [
    "for split in ['train']:\n",
    "    transfer_files(f'/kaggle/input/plantifydr-dataset/PlantDiseasesDataset/Tomato/{split}/Tomato Healthy','/kaggle/working/tmp/train/Healthy')\n",
    "    transfer_files(f'/kaggle/input/plantifydr-dataset/PlantDiseasesDataset/Tomato/{split}/Tomato Spider mites','/kaggle/working/tmp/train/Other')\n",
    "    transfer_files(f'/kaggle/input/plantifydr-dataset/PlantDiseasesDataset/Tomato/{split}/Tomato Mosaic virus','/kaggle/working/tmp/train/Other')\n",
    "    transfer_files(f'/kaggle/input/plantifydr-dataset/PlantDiseasesDataset/Tomato/{split}/Tomato Early blight','/kaggle/working/tmp/train/Early_Blight')\n",
    "    transfer_files(f'/kaggle/input/plantifydr-dataset/PlantDiseasesDataset/Tomato/{split}/Tomato Yellow Leaf Curl Virus','/kaggle/working/tmp/train/ToLCV')\n",
    "    transfer_files(f'/kaggle/input/plantifydr-dataset/PlantDiseasesDataset/Tomato/{split}/Tomato Septoria leaf spot','/kaggle/working/tmp/train/Other')\n",
    "    transfer_files(f'/kaggle/input/plantifydr-dataset/PlantDiseasesDataset/Tomato/{split}/Tomato Leaf Mold','/kaggle/working/tmp/train/Other')\n",
    "    transfer_files(f'/kaggle/input/plantifydr-dataset/PlantDiseasesDataset/Tomato/{split}/Tomato Late blight','/kaggle/working/tmp/train/Late_Blight')\n",
    "    transfer_files(f'/kaggle/input/plantifydr-dataset/PlantDiseasesDataset/Tomato/{split}/Tomato Target Spot','/kaggle/working/tmp/train/Other')\n",
    "    transfer_files(f'/kaggle/input/plantifydr-dataset/PlantDiseasesDataset/Tomato/{split}/Tomato Bacterial spot','/kaggle/working/tmp/train/Other')\n",
    "    \n",
    "transfer_files('/kaggle/input/potato-tomato-dataset/idata/Image Dataset/ImageDataset/train/tomato_early','/kaggle/working/tmp/train/Early_Blight')\n",
    "transfer_files('/kaggle/input/potato-tomato-dataset/idata/Image Dataset/ImageDataset/train/tomato_healthy','/kaggle/working/tmp/train/Healthy')\n",
    "transfer_files('/kaggle/input/potato-tomato-dataset/idata/Image Dataset/ImageDataset/train/tomato_late','/kaggle/working/tmp/train/Late_Blight')\n",
    "for split in ['valid']:\n",
    "    transfer_files(f'/kaggle/input/plantifydr-dataset/PlantDiseasesDataset/Tomato/{split}/Tomato Healthy','/kaggle/working/tmp/val/Healthy')\n",
    "    transfer_files(f'/kaggle/input/plantifydr-dataset/PlantDiseasesDataset/Tomato/{split}/Tomato Spider mites','/kaggle/working/tmp/val/Other')\n",
    "    transfer_files(f'/kaggle/input/plantifydr-dataset/PlantDiseasesDataset/Tomato/{split}/Tomato Mosaic virus','/kaggle/working/tmp/val/Other')\n",
    "    transfer_files(f'/kaggle/input/plantifydr-dataset/PlantDiseasesDataset/Tomato/{split}/Tomato Early blight','/kaggle/working/tmp/val/Early_Blight')\n",
    "    transfer_files(f'/kaggle/input/plantifydr-dataset/PlantDiseasesDataset/Tomato/{split}/Tomato Yellow Leaf Curl Virus','/kaggle/working/tmp/val/ToLCV')\n",
    "    transfer_files(f'/kaggle/input/plantifydr-dataset/PlantDiseasesDataset/Tomato/{split}/Tomato Septoria leaf spot','/kaggle/working/tmp/val/Other')\n",
    "    transfer_files(f'/kaggle/input/plantifydr-dataset/PlantDiseasesDataset/Tomato/{split}/Tomato Leaf Mold','/kaggle/working/tmp/val/Other')\n",
    "    transfer_files(f'/kaggle/input/plantifydr-dataset/PlantDiseasesDataset/Tomato/{split}/Tomato Late blight','/kaggle/working/tmp/val/Late_Blight')\n",
    "    transfer_files(f'/kaggle/input/plantifydr-dataset/PlantDiseasesDataset/Tomato/{split}/Tomato Target Spot','/kaggle/working/tmp/val/Other')\n",
    "    transfer_files(f'/kaggle/input/plantifydr-dataset/PlantDiseasesDataset/Tomato/{split}/Tomato Bacterial spot','/kaggle/working/tmp/val/Other')\n",
    "    \n",
    "def transfer_files_with_split(source,final,train_split=1.0):\n",
    "    length = len(os.listdir(source))\n",
    "    th = int(length*train_split)\n",
    "    for i,fname in enumerate(tqdm.tqdm(os.listdir(source))):\n",
    "        if i<th:\n",
    "            shutil.copy(os.path.join(source,fname),final.replace('val','train'))\n",
    "        else:\n",
    "            shutil.copy(os.path.join(source,fname),final.replace('train','val'))\n",
    "transfer_files_with_split('/kaggle/input/new-bangladeshi-crop-disease/Invalid/Invalid','/kaggle/working/tmp/train/Invad',0.9)\n",
    "\n",
    "transfer_files('/kaggle/input/potato-tomato-dataset/idata/Image Dataset/ImageDataset/valid/tomato_early','/kaggle/working/tmp/val/Early_Blight')\n",
    "transfer_files('/kaggle/input/potato-tomato-dataset/idata/Image Dataset/ImageDataset/valid/tomato_healthy','/kaggle/working/tmp/val/Healthy')\n",
    "transfer_files('/kaggle/input/potato-tomato-dataset/idata/Image Dataset/ImageDataset/valid/tomato_late','/kaggle/working/tmp/val/Late_Blight')\n",
    "\n"
   ]
  },
  {
   "cell_type": "code",
   "execution_count": 3,
   "id": "21e6f115",
   "metadata": {
    "execution": {
     "iopub.execute_input": "2023-05-07T09:09:53.614740Z",
     "iopub.status.busy": "2023-05-07T09:09:53.614324Z",
     "iopub.status.idle": "2023-05-07T09:10:00.319271Z",
     "shell.execute_reply": "2023-05-07T09:10:00.318179Z"
    },
    "papermill": {
     "duration": 6.984179,
     "end_time": "2023-05-07T09:10:00.323131",
     "exception": false,
     "start_time": "2023-05-07T09:09:53.338952",
     "status": "completed"
    },
    "tags": []
   },
   "outputs": [
    {
     "name": "stderr",
     "output_type": "stream",
     "text": [
      "  2%|▏         | 31/1332 [00:00<00:04, 297.92it/s]"
     ]
    },
    {
     "name": "stdout",
     "output_type": "stream",
     "text": [
      "tomato_late_23.JPG\n",
      "tomato_late_131.JPG\n",
      "tomato_late_304.JPG\n",
      "tomato_late_251.JPG\n",
      "tomato_late_9.JPG\n",
      "tomato_early_99.JPG\n",
      "tomato_early_191.JPG\n",
      "tomato_early_327.JPG\n",
      "tomato_early_187.JPG\n",
      "tomato_early_381.JPG\n",
      "tomato_healthy_257.JPG\n",
      "tomato_late_47.JPG\n",
      "tomato_early_113.JPG\n",
      "tomato_late_227.JPG\n",
      "tomato_late_295.JPG\n",
      "tomato_early_179.JPG\n",
      "tomato_late_97.JPG\n",
      "tomato_late_820.JPG\n",
      "tomato_early_291.JPG\n",
      "tomato_early_225.JPG\n",
      "tomato_early_195.JPG\n",
      "tomato_early_61.JPG\n",
      "tomato_healthy_203.JPG\n",
      "tomato_healthy_411.JPG\n",
      "tomato_late_184.JPG\n",
      "tomato_healthy_209.JPG\n",
      "tomato_late_355.JPG\n",
      "tomato_healthy_321.JPG\n",
      "tomato_early_441.JPG\n",
      "tomato_healthy_315.JPG\n",
      "tomato_early_173.JPG\n",
      "tomato_healthy_207.JPG\n",
      "tomato_late_809.JPG\n",
      "tomato_early_123.JPG\n",
      "tomato_early_365.JPG\n",
      "tomato_late_419.JPG\n"
     ]
    },
    {
     "name": "stderr",
     "output_type": "stream",
     "text": [
      "  7%|▋         | 90/1332 [00:00<00:04, 280.74it/s]"
     ]
    },
    {
     "name": "stdout",
     "output_type": "stream",
     "text": [
      "tomato_early_133.JPG\n",
      "tomato_early_323.JPG\n",
      "tomato_late_829.JPG\n",
      "tomato_late_244.JPG\n",
      "tomato_early_233.JPG\n",
      "tomato_late_297.JPG\n",
      "tomato_early_319.JPG\n",
      "tomato_late_391.JPG\n",
      "tomato_early_375.JPG\n",
      "tomato_late_245.JPG\n",
      "tomato_late_782.JPG\n",
      "tomato_late_139.JPG\n",
      "tomato_late_236.JPG\n",
      "tomato_healthy_117.JPG\n",
      "tomato_late_172.JPG\n",
      "tomato_late_292.JPG\n",
      "tomato_early_205.JPG\n",
      "tomato_late_148.JPG\n",
      "tomato_late_749.JPG\n",
      "tomato_healthy_27.JPG\n",
      "tomato_healthy_219.JPG\n",
      "tomato_healthy_149.JPG\n",
      "tomato_late_13.JPG\n",
      "tomato_late_305.JPG\n",
      "tomato_healthy_181.JPG\n",
      "tomato_healthy_335.JPG\n",
      "tomato_healthy_67.JPG\n",
      "tomato_healthy_135.JPG\n",
      "tomato_late_160.JPG\n",
      "tomato_late_88.JPG\n",
      "tomato_late_71.JPG\n",
      "tomato_late_367.JPG\n",
      "tomato_late_19.JPG\n",
      "tomato_early_307.JPG\n",
      "tomato_healthy_435.JPG\n",
      "tomato_healthy_431.JPG\n"
     ]
    },
    {
     "name": "stderr",
     "output_type": "stream",
     "text": [
      " 11%|█▏        | 153/1332 [00:00<00:04, 276.01it/s]"
     ]
    },
    {
     "name": "stdout",
     "output_type": "stream",
     "text": [
      "tomato_early_5.JPG\n",
      "tomato_late_746.JPG\n",
      "tomato_early_89.JPG\n",
      "tomato_late_135.JPG\n",
      "tomato_healthy_179.JPG\n",
      "tomato_late_212.JPG\n",
      "tomato_late_164.JPG\n",
      "tomato_early_389.JPG\n",
      "tomato_late_837.JPG\n",
      "tomato_late_268.JPG\n",
      "tomato_healthy_29.JPG\n",
      "tomato_late_147.JPG\n",
      "tomato_late_337.JPG\n",
      "tomato_early_151.JPG\n",
      "tomato_late_165.JPG\n",
      "tomato_late_80.JPG\n",
      "tomato_late_72.JPG\n",
      "tomato_healthy_161.JPG\n",
      "tomato_late_267.JPG\n",
      "tomato_late_308.JPG\n",
      "tomato_early_17.JPG\n",
      "tomato_early_397.JPG\n",
      "tomato_healthy_377.JPG\n",
      "tomato_late_415.JPG\n",
      "tomato_healthy_215.JPG\n",
      "tomato_late_296.JPG\n",
      "tomato_healthy_283.JPG\n",
      "tomato_early_295.JPG\n",
      "tomato_early_339.JPG\n",
      "tomato_healthy_101.JPG\n",
      "tomato_healthy_99.JPG\n",
      "tomato_early_167.JPG\n",
      "tomato_late_287.JPG\n",
      "tomato_healthy_125.JPG\n",
      "tomato_early_273.JPG\n",
      "tomato_early_287.JPG\n",
      "tomato_early_303.JPG\n"
     ]
    },
    {
     "name": "stderr",
     "output_type": "stream",
     "text": [
      " 16%|█▌        | 212/1332 [00:00<00:04, 240.06it/s]"
     ]
    },
    {
     "name": "stdout",
     "output_type": "stream",
     "text": [
      "tomato_late_736.JPG\n",
      "tomato_healthy_25.JPG\n",
      "tomato_late_842.JPG\n",
      "tomato_early_25.JPG\n",
      "tomato_late_387.JPG\n",
      "tomato_late_95.JPG\n",
      "tomato_early_311.JPG\n",
      "tomato_healthy_159.JPG\n",
      "tomato_late_431.JPG\n",
      "tomato_healthy_45.JPG\n",
      "tomato_late_757.JPG\n",
      "tomato_early_165.JPG\n",
      "tomato_early_65.JPG\n",
      "tomato_late_341.JPG\n",
      "tomato_late_311.JPG\n",
      "tomato_healthy_277.JPG\n",
      "tomato_early_333.JPG\n",
      "tomato_healthy_51.JPG\n",
      "tomato_healthy_175.JPG\n",
      "tomato_late_349.JPG\n",
      "tomato_late_63.JPG\n",
      "tomato_early_67.JPG\n",
      "tomato_healthy_57.JPG\n",
      "tomato_late_233.JPG\n",
      "tomato_late_5.JPG\n",
      "tomato_late_159.JPG\n",
      "tomato_late_237.JPG\n",
      "tomato_early_143.JPG\n",
      "tomato_healthy_11.JPG\n",
      "tomato_early_181.JPG\n",
      "tomato_early_135.JPG\n",
      "tomato_late_729.JPG\n",
      "tomato_late_217.JPG\n"
     ]
    },
    {
     "name": "stderr",
     "output_type": "stream",
     "text": [
      " 21%|██        | 274/1332 [00:01<00:03, 267.32it/s]"
     ]
    },
    {
     "name": "stdout",
     "output_type": "stream",
     "text": [
      "tomato_late_738.JPG\n",
      "tomato_late_834.JPG\n",
      "tomato_early_427.JPG\n",
      "tomato_late_133.JPG\n",
      "tomato_late_285.JPG\n",
      "tomato_late_417.JPG\n",
      "tomato_healthy_163.JPG\n",
      "tomato_healthy_405.JPG\n",
      "tomato_late_65.JPG\n",
      "tomato_late_35.JPG\n",
      "tomato_late_399.JPG\n",
      "tomato_early_243.JPG\n",
      "tomato_healthy_267.JPG\n",
      "tomato_early_257.JPG\n",
      "tomato_late_364.JPG\n",
      "tomato_late_288.JPG\n",
      "tomato_late_64.JPG\n",
      "tomato_healthy_15.JPG\n",
      "tomato_late_821.JPG\n",
      "tomato_late_168.JPG\n",
      "tomato_early_107.JPG\n",
      "tomato_healthy_73.JPG\n",
      "tomato_late_299.JPG\n",
      "tomato_late_773.JPG\n",
      "tomato_late_176.JPG\n",
      "tomato_healthy_413.JPG\n",
      "tomato_late_303.JPG\n",
      "tomato_late_144.JPG\n",
      "tomato_early_77.JPG\n",
      "tomato_healthy_323.JPG\n",
      "tomato_early_23.JPG\n",
      "tomato_healthy_13.JPG\n"
     ]
    },
    {
     "name": "stderr",
     "output_type": "stream",
     "text": [
      " 23%|██▎       | 302/1332 [00:01<00:04, 257.46it/s]"
     ]
    },
    {
     "name": "stdout",
     "output_type": "stream",
     "text": [
      "tomato_late_747.JPG\n",
      "tomato_late_143.JPG\n",
      "tomato_late_20.JPG\n",
      "tomato_late_213.JPG\n",
      "tomato_early_391.JPG\n",
      "tomato_late_85.JPG\n",
      "tomato_early_119.JPG\n",
      "tomato_healthy_401.JPG\n",
      "tomato_early_59.JPG\n",
      "tomato_late_758.JPG\n",
      "tomato_late_261.JPG\n",
      "tomato_healthy_221.JPG\n",
      "tomato_early_3.JPG\n",
      "tomato_early_435.JPG\n",
      "tomato_late_825.JPG\n",
      "tomato_late_55.JPG\n",
      "tomato_healthy_345.JPG\n",
      "tomato_late_317.JPG\n",
      "tomato_healthy_229.JPG\n",
      "tomato_late_185.JPG\n",
      "tomato_early_97.JPG\n",
      "tomato_late_791.JPG\n",
      "tomato_late_429.JPG\n",
      "tomato_healthy_131.JPG\n",
      "tomato_early_125.JPG\n",
      "tomato_late_45.JPG\n",
      "tomato_late_774.JPG\n",
      "tomato_healthy_23.JPG\n",
      "tomato_early_289.JPG\n",
      "tomato_early_31.JPG\n",
      "tomato_early_49.JPG\n",
      "tomato_late_425.JPG\n"
     ]
    },
    {
     "name": "stderr",
     "output_type": "stream",
     "text": [
      " 27%|██▋       | 362/1332 [00:01<00:04, 239.79it/s]"
     ]
    },
    {
     "name": "stdout",
     "output_type": "stream",
     "text": [
      "tomato_late_320.JPG\n",
      "tomato_healthy_341.JPG\n",
      "tomato_healthy_103.JPG\n",
      "tomato_early_141.JPG\n",
      "tomato_early_353.JPG\n",
      "tomato_late_201.JPG\n",
      "tomato_early_109.JPG\n",
      "tomato_early_231.JPG\n",
      "tomato_late_79.JPG\n",
      "tomato_late_381.JPG\n",
      "tomato_healthy_141.JPG\n",
      "tomato_late_759.JPG\n",
      "tomato_early_161.JPG\n",
      "tomato_late_356.JPG\n",
      "tomato_late_427.JPG\n",
      "tomato_early_399.JPG\n",
      "tomato_healthy_271.JPG\n",
      "tomato_late_813.JPG\n",
      "tomato_late_801.JPG\n",
      "tomato_late_772.JPG\n",
      "tomato_healthy_231.JPG\n",
      "tomato_late_340.JPG\n",
      "tomato_late_744.JPG\n",
      "tomato_early_193.JPG\n",
      "tomato_healthy_225.JPG\n",
      "tomato_early_69.JPG\n",
      "tomato_late_752.JPG\n",
      "tomato_late_208.JPG\n",
      "tomato_early_315.JPG\n"
     ]
    },
    {
     "name": "stderr",
     "output_type": "stream",
     "text": [
      " 29%|██▉       | 387/1332 [00:01<00:04, 206.72it/s]"
     ]
    },
    {
     "name": "stdout",
     "output_type": "stream",
     "text": [
      "tomato_healthy_77.JPG\n",
      "tomato_late_203.JPG\n",
      "tomato_healthy_167.JPG\n",
      "tomato_early_371.JPG\n",
      "tomato_late_61.JPG\n",
      "tomato_late_123.JPG\n",
      "tomato_healthy_425.JPG\n",
      "tomato_late_375.JPG\n",
      "tomato_late_56.JPG\n",
      "tomato_late_249.JPG\n",
      "tomato_early_9.JPG\n",
      "tomato_late_232.JPG\n",
      "tomato_late_75.JPG\n",
      "tomato_early_213.JPG\n",
      "tomato_healthy_389.JPG\n",
      "tomato_healthy_369.JPG\n",
      "tomato_late_731.JPG\n",
      "tomato_early_227.JPG\n",
      "tomato_late_339.JPG\n",
      "tomato_early_279.JPG\n",
      "tomato_late_421.JPG\n",
      "tomato_late_824.JPG\n",
      "tomato_late_734.JPG\n"
     ]
    },
    {
     "name": "stderr",
     "output_type": "stream",
     "text": [
      " 33%|███▎      | 436/1332 [00:01<00:04, 218.32it/s]"
     ]
    },
    {
     "name": "stdout",
     "output_type": "stream",
     "text": [
      "tomato_late_727.JPG\n",
      "tomato_late_783.JPG\n",
      "tomato_early_297.JPG\n",
      "tomato_late_188.JPG\n",
      "tomato_healthy_439.JPG\n",
      "tomato_late_748.JPG\n",
      "tomato_late_762.JPG\n",
      "tomato_healthy_65.JPG\n",
      "tomato_late_103.JPG\n",
      "tomato_healthy_347.JPG\n",
      "tomato_healthy_85.JPG\n",
      "tomato_late_343.JPG\n",
      "tomato_healthy_355.JPG\n",
      "tomato_late_248.JPG\n",
      "tomato_late_789.JPG\n",
      "tomato_late_816.JPG\n",
      "tomato_healthy_111.JPG\n",
      "tomato_early_317.JPG\n",
      "tomato_late_51.JPG\n",
      "tomato_healthy_371.JPG\n",
      "tomato_late_145.JPG\n",
      "tomato_late_113.JPG\n",
      "tomato_late_806.JPG\n",
      "tomato_late_156.JPG\n",
      "tomato_late_379.JPG\n",
      "tomato_early_169.JPG\n",
      "tomato_late_817.JPG\n",
      "tomato_late_192.JPG\n",
      "tomato_healthy_121.JPG\n",
      "tomato_late_207.JPG\n",
      "tomato_late_276.JPG\n",
      "tomato_healthy_31.JPG\n"
     ]
    },
    {
     "name": "stderr",
     "output_type": "stream",
     "text": [
      " 36%|███▌      | 480/1332 [00:02<00:04, 200.49it/s]"
     ]
    },
    {
     "name": "stdout",
     "output_type": "stream",
     "text": [
      "tomato_late_361.JPG\n",
      "tomato_healthy_279.JPG\n",
      "tomato_healthy_367.JPG\n",
      "tomato_late_770.JPG\n",
      "tomato_healthy_287.JPG\n",
      "tomato_healthy_305.JPG\n",
      "tomato_healthy_261.JPG\n",
      "tomato_late_161.JPG\n",
      "tomato_late_120.JPG\n",
      "tomato_healthy_255.JPG\n",
      "tomato_healthy_259.JPG\n",
      "tomato_healthy_409.JPG\n",
      "tomato_early_321.JPG\n",
      "tomato_late_761.JPG\n",
      "tomato_early_349.JPG\n",
      "tomato_early_259.JPG\n",
      "tomato_early_433.JPG\n",
      "tomato_late_112.JPG\n",
      "tomato_healthy_137.JPG\n",
      "tomato_early_361.JPG\n",
      "tomato_late_125.JPG\n",
      "tomato_late_312.JPG\n",
      "tomato_late_92.JPG\n",
      "tomato_late_69.JPG\n",
      "tomato_late_279.JPG\n",
      "tomato_early_127.JPG\n",
      "tomato_healthy_359.JPG\n",
      "tomato_late_787.JPG\n",
      "tomato_late_157.JPG\n"
     ]
    },
    {
     "name": "stderr",
     "output_type": "stream",
     "text": [
      " 40%|████      | 534/1332 [00:02<00:03, 232.45it/s]"
     ]
    },
    {
     "name": "stdout",
     "output_type": "stream",
     "text": [
      "tomato_late_67.JPG\n",
      "tomato_late_231.JPG\n",
      "tomato_late_27.JPG\n",
      "tomato_late_332.JPG\n",
      "tomato_early_27.JPG\n",
      "tomato_late_243.JPG\n",
      "tomato_late_363.JPG\n",
      "tomato_healthy_361.JPG\n",
      "tomato_early_15.JPG\n",
      "tomato_late_780.JPG\n",
      "tomato_late_357.JPG\n",
      "tomato_healthy_59.JPG\n",
      "tomato_early_21.JPG\n",
      "tomato_late_740.JPG\n",
      "tomato_late_771.JPG\n",
      "tomato_late_17.JPG\n",
      "tomato_early_425.JPG\n",
      "tomato_early_329.JPG\n",
      "tomato_healthy_201.JPG\n",
      "tomato_late_197.JPG\n",
      "tomato_late_177.JPG\n",
      "tomato_late_836.JPG\n",
      "tomato_healthy_17.JPG\n",
      "tomato_healthy_391.JPG\n",
      "tomato_early_73.JPG\n",
      "tomato_healthy_373.JPG\n",
      "tomato_late_81.JPG\n",
      "tomato_early_405.JPG\n",
      "tomato_healthy_337.JPG\n",
      "tomato_late_129.JPG\n",
      "tomato_late_100.JPG\n",
      "tomato_late_793.JPG\n",
      "tomato_late_41.JPG\n",
      "tomato_late_815.JPG\n",
      "tomato_early_309.JPG\n"
     ]
    },
    {
     "name": "stderr",
     "output_type": "stream",
     "text": [
      " 44%|████▍     | 589/1332 [00:02<00:02, 251.16it/s]"
     ]
    },
    {
     "name": "stdout",
     "output_type": "stream",
     "text": [
      "tomato_late_797.JPG\n",
      "tomato_late_101.JPG\n",
      "tomato_late_25.JPG\n",
      "tomato_healthy_339.JPG\n",
      "tomato_early_241.JPG\n",
      "tomato_late_756.JPG\n",
      "tomato_healthy_93.JPG\n",
      "tomato_healthy_89.JPG\n",
      "tomato_late_93.JPG\n",
      "tomato_healthy_319.JPG\n",
      "tomato_healthy_109.JPG\n",
      "tomato_healthy_227.JPG\n",
      "tomato_early_157.JPG\n",
      "tomato_late_831.JPG\n",
      "tomato_late_754.JPG\n",
      "tomato_late_745.JPG\n",
      "tomato_healthy_399.JPG\n",
      "tomato_late_725.JPG\n",
      "tomato_healthy_47.JPG\n",
      "tomato_early_341.JPG\n",
      "tomato_early_71.JPG\n",
      "tomato_early_301.JPG\n",
      "tomato_late_838.JPG\n",
      "tomato_early_251.JPG\n",
      "tomato_early_237.JPG\n",
      "tomato_late_136.JPG\n",
      "tomato_early_55.JPG\n",
      "tomato_late_331.JPG\n",
      "tomato_late_155.JPG\n",
      "tomato_late_778.JPG\n",
      "tomato_healthy_115.JPG\n",
      "tomato_late_11.JPG\n",
      "tomato_late_153.JPG\n",
      "tomato_late_784.JPG\n"
     ]
    },
    {
     "name": "stderr",
     "output_type": "stream",
     "text": [
      " 49%|████▊     | 647/1332 [00:02<00:02, 265.60it/s]"
     ]
    },
    {
     "name": "stdout",
     "output_type": "stream",
     "text": [
      "tomato_early_13.JPG\n",
      "tomato_late_196.JPG\n",
      "tomato_healthy_183.JPG\n",
      "tomato_early_57.JPG\n",
      "tomato_healthy_83.JPG\n",
      "tomato_late_216.JPG\n",
      "tomato_healthy_331.JPG\n",
      "tomato_healthy_153.JPG\n",
      "tomato_late_333.JPG\n",
      "tomato_early_95.JPG\n",
      "tomato_late_180.JPG\n",
      "tomato_healthy_87.JPG\n",
      "tomato_late_225.JPG\n",
      "tomato_healthy_407.JPG\n",
      "tomato_late_181.JPG\n",
      "tomato_late_84.JPG\n",
      "tomato_healthy_385.JPG\n",
      "tomato_late_132.JPG\n",
      "tomato_early_129.JPG\n",
      "tomato_late_389.JPG\n",
      "tomato_healthy_145.JPG\n",
      "tomato_healthy_311.JPG\n",
      "tomato_late_301.JPG\n",
      "tomato_healthy_441.JPG\n",
      "tomato_late_323.JPG\n",
      "tomato_late_239.JPG\n",
      "tomato_healthy_75.JPG\n",
      "tomato_late_805.JPG\n",
      "tomato_late_827.JPG\n",
      "tomato_early_357.JPG\n",
      "tomato_early_103.JPG\n",
      "tomato_healthy_273.JPG\n"
     ]
    },
    {
     "name": "stderr",
     "output_type": "stream",
     "text": [
      " 54%|█████▎    | 713/1332 [00:02<00:02, 282.91it/s]"
     ]
    },
    {
     "name": "stdout",
     "output_type": "stream",
     "text": [
      "tomato_healthy_269.JPG\n",
      "tomato_early_407.JPG\n",
      "tomato_early_331.JPG\n",
      "tomato_late_52.JPG\n",
      "tomato_early_229.JPG\n",
      "tomato_early_183.JPG\n",
      "tomato_late_229.JPG\n",
      "tomato_late_309.JPG\n",
      "tomato_late_785.JPG\n",
      "tomato_late_781.JPG\n",
      "tomato_healthy_403.JPG\n",
      "tomato_healthy_233.JPG\n",
      "tomato_early_51.JPG\n",
      "tomato_late_99.JPG\n",
      "tomato_late_373.JPG\n",
      "tomato_early_423.JPG\n",
      "tomato_late_751.JPG\n",
      "tomato_late_29.JPG\n",
      "tomato_late_383.JPG\n",
      "tomato_early_437.JPG\n",
      "tomato_early_117.JPG\n",
      "tomato_early_409.JPG\n",
      "tomato_late_241.JPG\n",
      "tomato_late_742.JPG\n",
      "tomato_healthy_63.JPG\n",
      "tomato_healthy_427.JPG\n",
      "tomato_late_169.JPG\n",
      "tomato_healthy_297.JPG\n",
      "tomato_late_313.JPG\n"
     ]
    },
    {
     "name": "stderr",
     "output_type": "stream",
     "text": [
      " 56%|█████▌    | 742/1332 [00:02<00:02, 271.37it/s]"
     ]
    },
    {
     "name": "stdout",
     "output_type": "stream",
     "text": [
      "tomato_late_21.JPG\n",
      "tomato_late_224.JPG\n",
      "tomato_late_833.JPG\n",
      "tomato_early_239.JPG\n",
      "tomato_healthy_251.JPG\n",
      "tomato_late_792.JPG\n",
      "tomato_healthy_237.JPG\n",
      "tomato_healthy_241.JPG\n",
      "tomato_late_329.JPG\n",
      "tomato_late_814.JPG\n",
      "tomato_late_137.JPG\n",
      "tomato_late_253.JPG\n",
      "tomato_late_280.JPG\n",
      "tomato_late_24.JPG\n",
      "tomato_late_240.JPG\n",
      "tomato_late_345.JPG\n",
      "tomato_early_131.JPG\n",
      "tomato_healthy_107.JPG\n",
      "tomato_late_281.JPG\n",
      "tomato_healthy_157.JPG\n",
      "tomato_late_385.JPG\n",
      "tomato_healthy_301.JPG\n",
      "tomato_late_15.JPG\n",
      "tomato_healthy_41.JPG\n",
      "tomato_early_43.JPG\n",
      "tomato_late_140.JPG\n",
      "tomato_healthy_35.JPG\n",
      "tomato_late_804.JPG\n",
      "tomato_healthy_199.JPG\n",
      "tomato_early_1.JPG\n"
     ]
    },
    {
     "name": "stderr",
     "output_type": "stream",
     "text": [
      " 60%|█████▉    | 797/1332 [00:03<00:02, 242.40it/s]"
     ]
    },
    {
     "name": "stdout",
     "output_type": "stream",
     "text": [
      "tomato_late_796.JPG\n",
      "tomato_early_93.JPG\n",
      "tomato_early_201.JPG\n",
      "tomato_late_76.JPG\n",
      "tomato_healthy_105.JPG\n",
      "tomato_late_36.JPG\n",
      "tomato_late_739.JPG\n",
      "tomato_healthy_169.JPG\n",
      "tomato_healthy_249.JPG\n",
      "tomato_early_335.JPG\n",
      "tomato_late_271.JPG\n",
      "tomato_healthy_37.JPG\n",
      "tomato_late_409.JPG\n",
      "tomato_healthy_139.JPG\n",
      "tomato_late_352.JPG\n",
      "tomato_late_826.JPG\n",
      "tomato_late_733.JPG\n",
      "tomato_late_105.JPG\n",
      "tomato_early_417.JPG\n",
      "tomato_healthy_381.JPG\n",
      "tomato_late_283.JPG\n",
      "tomato_healthy_253.JPG\n",
      "tomato_healthy_349.JPG\n",
      "tomato_healthy_185.JPG\n",
      "tomato_late_395.JPG\n",
      "tomato_early_367.JPG\n",
      "tomato_early_189.JPG\n",
      "tomato_early_41.JPG\n",
      "tomato_healthy_43.JPG\n",
      "tomato_late_272.JPG\n",
      "tomato_late_401.JPG\n"
     ]
    },
    {
     "name": "stderr",
     "output_type": "stream",
     "text": [
      " 62%|██████▏   | 822/1332 [00:03<00:02, 228.68it/s]"
     ]
    },
    {
     "name": "stdout",
     "output_type": "stream",
     "text": [
      "tomato_late_808.JPG\n",
      "tomato_late_830.JPG\n",
      "tomato_late_104.JPG\n",
      "tomato_late_115.JPG\n",
      "tomato_early_429.JPG\n",
      "tomato_healthy_309.JPG\n",
      "tomato_late_109.JPG\n",
      "tomato_healthy_393.JPG\n",
      "tomato_early_369.JPG\n",
      "tomato_early_81.JPG\n",
      "tomato_late_205.JPG\n",
      "tomato_late_403.JPG\n",
      "tomato_healthy_193.JPG\n",
      "tomato_late_211.JPG\n",
      "tomato_early_385.JPG\n",
      "tomato_early_7.JPG\n",
      "tomato_healthy_317.JPG\n",
      "tomato_healthy_351.JPG\n",
      "tomato_healthy_333.JPG\n",
      "tomato_healthy_189.JPG\n",
      "tomato_early_395.JPG\n",
      "tomato_early_35.JPG\n",
      "tomato_late_348.JPG\n",
      "tomato_healthy_53.JPG\n",
      "tomato_early_325.JPG\n",
      "tomato_early_171.JPG\n",
      "tomato_healthy_285.JPG\n",
      "tomato_late_68.JPG\n",
      "tomato_early_247.JPG\n",
      "tomato_healthy_113.JPG\n",
      "tomato_late_344.JPG\n",
      "tomato_early_111.JPG\n"
     ]
    },
    {
     "name": "stderr",
     "output_type": "stream",
     "text": [
      " 65%|██████▌   | 872/1332 [00:03<00:02, 229.12it/s]"
     ]
    },
    {
     "name": "stdout",
     "output_type": "stream",
     "text": [
      "tomato_late_353.JPG\n",
      "tomato_late_89.JPG\n",
      "tomato_healthy_197.JPG\n",
      "tomato_late_291.JPG\n",
      "tomato_late_48.JPG\n",
      "tomato_late_741.JPG\n",
      "tomato_late_413.JPG\n",
      "tomato_late_173.JPG\n",
      "tomato_late_191.JPG\n",
      "tomato_late_794.JPG\n",
      "tomato_early_293.JPG\n",
      "tomato_healthy_81.JPG\n",
      "tomato_early_197.JPG\n",
      "tomato_late_73.JPG\n",
      "tomato_late_151.JPG\n",
      "tomato_early_147.JPG\n",
      "tomato_early_63.JPG\n",
      "tomato_early_207.JPG\n",
      "tomato_early_355.JPG\n",
      "tomato_late_365.JPG\n",
      "tomato_healthy_177.JPG\n",
      "tomato_late_209.JPG\n",
      "tomato_late_108.JPG\n",
      "tomato_healthy_61.JPG\n",
      "tomato_late_77.JPG\n",
      "tomato_healthy_213.JPG\n",
      "tomato_late_128.JPG\n",
      "tomato_early_249.JPG\n",
      "tomato_healthy_245.JPG\n",
      "tomato_late_273.JPG\n"
     ]
    },
    {
     "name": "stderr",
     "output_type": "stream",
     "text": [
      " 69%|██████▉   | 921/1332 [00:03<00:01, 223.26it/s]"
     ]
    },
    {
     "name": "stdout",
     "output_type": "stream",
     "text": [
      "tomato_early_271.JPG\n",
      "tomato_late_351.JPG\n",
      "tomato_healthy_397.JPG\n",
      "tomato_healthy_417.JPG\n",
      "tomato_early_345.JPG\n",
      "tomato_late_359.JPG\n",
      "tomato_healthy_291.JPG\n",
      "tomato_late_732.JPG\n",
      "tomato_healthy_239.JPG\n",
      "tomato_healthy_247.JPG\n",
      "tomato_late_200.JPG\n",
      "tomato_late_840.JPG\n",
      "tomato_early_415.JPG\n",
      "tomato_healthy_343.JPG\n",
      "tomato_late_39.JPG\n",
      "tomato_late_167.JPG\n",
      "tomato_healthy_97.JPG\n",
      "tomato_early_163.JPG\n",
      "tomato_late_235.JPG\n",
      "tomato_late_811.JPG\n",
      "tomato_late_189.JPG\n",
      "tomato_healthy_127.JPG\n",
      "tomato_late_247.JPG\n",
      "tomato_early_401.JPG\n",
      "tomato_healthy_281.JPG\n",
      "tomato_early_29.JPG\n",
      "tomato_late_53.JPG\n",
      "tomato_early_379.JPG\n",
      "tomato_late_252.JPG\n"
     ]
    },
    {
     "name": "stderr",
     "output_type": "stream",
     "text": [
      " 71%|███████   | 944/1332 [00:03<00:01, 208.68it/s]"
     ]
    },
    {
     "name": "stdout",
     "output_type": "stream",
     "text": [
      "tomato_late_107.JPG\n",
      "tomato_late_319.JPG\n",
      "tomato_early_19.JPG\n",
      "tomato_early_343.JPG\n",
      "tomato_late_328.JPG\n",
      "tomato_early_337.JPG\n",
      "tomato_late_289.JPG\n",
      "tomato_late_750.JPG\n",
      "tomato_early_383.JPG\n",
      "tomato_late_828.JPG\n",
      "tomato_late_293.JPG\n",
      "tomato_late_807.JPG\n",
      "tomato_late_117.JPG\n",
      "tomato_healthy_313.JPG\n",
      "tomato_healthy_191.JPG\n",
      "tomato_early_261.JPG\n",
      "tomato_late_321.JPG\n",
      "tomato_late_405.JPG\n",
      "tomato_late_753.JPG\n",
      "tomato_early_145.JPG\n",
      "tomato_late_96.JPG\n",
      "tomato_late_163.JPG\n",
      "tomato_early_305.JPG\n"
     ]
    },
    {
     "name": "stderr",
     "output_type": "stream",
     "text": [
      " 74%|███████▍  | 986/1332 [00:04<00:02, 171.27it/s]"
     ]
    },
    {
     "name": "stdout",
     "output_type": "stream",
     "text": [
      "tomato_early_221.JPG\n",
      "tomato_late_87.JPG\n",
      "tomato_late_33.JPG\n",
      "tomato_healthy_395.JPG\n",
      "tomato_late_255.JPG\n",
      "tomato_late_300.JPG\n",
      "tomato_late_776.JPG\n",
      "tomato_healthy_357.JPG\n",
      "tomato_healthy_205.JPG\n",
      "tomato_late_327.JPG\n",
      "tomato_healthy_421.JPG\n",
      "tomato_healthy_143.JPG\n",
      "tomato_healthy_217.JPG\n",
      "tomato_late_315.JPG\n",
      "tomato_healthy_55.JPG\n",
      "tomato_healthy_155.JPG\n",
      "tomato_healthy_33.JPG\n",
      "tomato_late_755.JPG\n",
      "tomato_early_439.JPG\n",
      "tomato_healthy_437.JPG\n"
     ]
    },
    {
     "name": "stderr",
     "output_type": "stream",
     "text": [
      " 77%|███████▋  | 1026/1332 [00:04<00:01, 180.14it/s]"
     ]
    },
    {
     "name": "stdout",
     "output_type": "stream",
     "text": [
      "tomato_late_1.JPG\n",
      "tomato_early_37.JPG\n",
      "tomato_early_347.JPG\n",
      "tomato_late_32.JPG\n",
      "tomato_early_285.JPG\n",
      "tomato_late_49.JPG\n",
      "tomato_late_347.JPG\n",
      "tomato_early_47.JPG\n",
      "tomato_healthy_187.JPG\n",
      "tomato_healthy_423.JPG\n",
      "tomato_healthy_365.JPG\n",
      "tomato_healthy_91.JPG\n",
      "tomato_early_265.JPG\n",
      "tomato_early_253.JPG\n",
      "tomato_early_215.JPG\n",
      "tomato_early_277.JPG\n",
      "tomato_late_223.JPG\n",
      "tomato_late_371.JPG\n",
      "tomato_late_220.JPG\n",
      "tomato_late_256.JPG\n",
      "tomato_late_307.JPG\n",
      "tomato_late_7.JPG\n",
      "tomato_healthy_95.JPG\n"
     ]
    },
    {
     "name": "stderr",
     "output_type": "stream",
     "text": [
      " 80%|███████▉  | 1063/1332 [00:04<00:01, 166.46it/s]"
     ]
    },
    {
     "name": "stdout",
     "output_type": "stream",
     "text": [
      "tomato_early_177.JPG\n",
      "tomato_early_203.JPG\n",
      "tomato_healthy_173.JPG\n",
      "tomato_healthy_9.JPG\n",
      "tomato_early_419.JPG\n",
      "tomato_healthy_235.JPG\n",
      "tomato_early_105.JPG\n",
      "tomato_early_11.JPG\n",
      "tomato_early_87.JPG\n",
      "tomato_healthy_7.JPG\n",
      "tomato_late_127.JPG\n",
      "tomato_late_407.JPG\n",
      "tomato_late_324.JPG\n",
      "tomato_early_313.JPG\n",
      "tomato_early_235.JPG\n",
      "tomato_late_171.JPG\n",
      "tomato_late_257.JPG\n",
      "tomato_early_79.JPG\n",
      "tomato_healthy_329.JPG\n",
      "tomato_late_845.JPG\n",
      "tomato_healthy_263.JPG\n"
     ]
    },
    {
     "name": "stderr",
     "output_type": "stream",
     "text": [
      " 83%|████████▎ | 1105/1332 [00:04<00:01, 183.35it/s]"
     ]
    },
    {
     "name": "stdout",
     "output_type": "stream",
     "text": [
      "tomato_late_179.JPG\n",
      "tomato_healthy_303.JPG\n",
      "tomato_late_760.JPG\n",
      "tomato_late_28.JPG\n",
      "tomato_late_275.JPG\n",
      "tomato_early_413.JPG\n",
      "tomato_healthy_293.JPG\n",
      "tomato_late_777.JPG\n",
      "tomato_early_283.JPG\n",
      "tomato_healthy_69.JPG\n",
      "tomato_early_175.JPG\n",
      "tomato_early_421.JPG\n",
      "tomato_early_91.JPG\n",
      "tomato_early_185.JPG\n",
      "tomato_late_369.JPG\n",
      "tomato_healthy_379.JPG\n",
      "tomato_early_159.JPG\n",
      "tomato_late_119.JPG\n",
      "tomato_late_779.JPG\n",
      "tomato_late_790.JPG\n",
      "tomato_healthy_419.JPG\n",
      "tomato_early_217.JPG\n",
      "tomato_late_823.JPG\n"
     ]
    },
    {
     "name": "stderr",
     "output_type": "stream",
     "text": [
      " 84%|████████▍ | 1124/1332 [00:05<00:01, 168.49it/s]"
     ]
    },
    {
     "name": "stdout",
     "output_type": "stream",
     "text": [
      "tomato_healthy_353.JPG\n",
      "tomato_late_265.JPG\n",
      "tomato_early_263.JPG\n",
      "tomato_late_788.JPG\n",
      "tomato_early_377.JPG\n",
      "tomato_late_259.JPG\n",
      "tomato_healthy_123.JPG\n",
      "tomato_healthy_307.JPG\n",
      "tomato_late_121.JPG\n",
      "tomato_healthy_195.JPG\n",
      "tomato_late_219.JPG\n",
      "tomato_late_91.JPG\n",
      "tomato_late_335.JPG\n",
      "tomato_healthy_39.JPG\n",
      "tomato_early_255.JPG\n",
      "tomato_early_115.JPG\n",
      "tomato_early_101.JPG\n",
      "tomato_early_211.JPG\n",
      "tomato_late_799.JPG\n",
      "tomato_late_199.JPG\n",
      "tomato_healthy_295.JPG\n",
      "tomato_late_411.JPG\n"
     ]
    },
    {
     "name": "stderr",
     "output_type": "stream",
     "text": [
      " 87%|████████▋ | 1159/1332 [00:05<00:01, 155.90it/s]"
     ]
    },
    {
     "name": "stdout",
     "output_type": "stream",
     "text": [
      "tomato_healthy_171.JPG\n",
      "tomato_healthy_433.JPG\n",
      "tomato_early_267.JPG\n",
      "tomato_late_284.JPG\n",
      "tomato_late_786.JPG\n",
      "tomato_early_299.JPG\n",
      "tomato_early_153.JPG\n",
      "tomato_late_175.JPG\n",
      "tomato_healthy_325.JPG\n",
      "tomato_late_193.JPG\n",
      "tomato_early_411.JPG\n",
      "tomato_late_325.JPG\n",
      "tomato_late_316.JPG\n",
      "tomato_healthy_299.JPG\n",
      "tomato_late_737.JPG\n",
      "tomato_healthy_383.JPG\n",
      "tomato_healthy_289.JPG\n",
      "tomato_early_209.JPG\n",
      "tomato_early_431.JPG\n",
      "tomato_healthy_49.JPG\n",
      "tomato_late_336.JPG\n",
      "tomato_late_260.JPG\n"
     ]
    },
    {
     "name": "stderr",
     "output_type": "stream",
     "text": [
      " 90%|████████▉ | 1197/1332 [00:05<00:00, 153.97it/s]"
     ]
    },
    {
     "name": "stdout",
     "output_type": "stream",
     "text": [
      "tomato_late_124.JPG\n",
      "tomato_late_843.JPG\n",
      "tomato_healthy_79.JPG\n",
      "tomato_healthy_363.JPG\n",
      "tomato_late_83.JPG\n",
      "tomato_healthy_119.JPG\n",
      "tomato_early_359.JPG\n",
      "tomato_late_111.JPG\n",
      "tomato_healthy_375.JPG\n",
      "tomato_early_281.JPG\n",
      "tomato_early_269.JPG\n",
      "tomato_late_810.JPG\n",
      "tomato_late_141.JPG\n",
      "tomato_healthy_129.JPG\n",
      "tomato_late_423.JPG\n",
      "tomato_healthy_165.JPG\n",
      "tomato_late_221.JPG\n",
      "tomato_early_39.JPG\n",
      "tomato_late_735.JPG\n",
      "tomato_healthy_21.JPG\n",
      "tomato_early_149.JPG\n"
     ]
    },
    {
     "name": "stderr",
     "output_type": "stream",
     "text": [
      " 93%|█████████▎| 1238/1332 [00:05<00:00, 174.41it/s]"
     ]
    },
    {
     "name": "stdout",
     "output_type": "stream",
     "text": [
      "tomato_late_149.JPG\n",
      "tomato_early_387.JPG\n",
      "tomato_healthy_147.JPG\n",
      "tomato_early_75.JPG\n",
      "tomato_late_377.JPG\n",
      "tomato_late_393.JPG\n",
      "tomato_late_798.JPG\n",
      "tomato_late_800.JPG\n",
      "tomato_healthy_275.JPG\n",
      "tomato_early_85.JPG\n",
      "tomato_healthy_3.JPG\n",
      "tomato_late_397.JPG\n",
      "tomato_healthy_71.JPG\n",
      "tomato_healthy_5.JPG\n",
      "tomato_late_204.JPG\n",
      "tomato_late_264.JPG\n",
      "tomato_late_215.JPG\n",
      "tomato_early_363.JPG\n",
      "tomato_late_187.JPG\n",
      "tomato_late_277.JPG\n",
      "tomato_early_245.JPG\n",
      "tomato_early_83.JPG\n",
      "tomato_healthy_327.JPG\n",
      "tomato_late_775.JPG\n"
     ]
    },
    {
     "name": "stderr",
     "output_type": "stream",
     "text": [
      " 94%|█████████▍| 1256/1332 [00:05<00:00, 156.36it/s]"
     ]
    },
    {
     "name": "stdout",
     "output_type": "stream",
     "text": [
      "tomato_late_116.JPG\n",
      "tomato_late_228.JPG\n",
      "tomato_early_137.JPG\n",
      "tomato_early_393.JPG\n",
      "tomato_late_743.JPG\n",
      "tomato_late_31.JPG\n",
      "tomato_late_818.JPG\n",
      "tomato_late_769.JPG\n",
      "tomato_late_839.JPG\n",
      "tomato_healthy_211.JPG\n",
      "tomato_early_139.JPG\n",
      "tomato_early_33.JPG\n",
      "tomato_late_730.JPG\n",
      "tomato_early_199.JPG\n",
      "tomato_late_844.JPG\n",
      "tomato_early_403.JPG\n",
      "tomato_late_44.JPG\n",
      "tomato_late_819.JPG\n",
      "tomato_late_263.JPG\n",
      "tomato_healthy_19.JPG\n",
      "tomato_late_195.JPG\n",
      "tomato_late_832.JPG\n",
      "tomato_early_53.JPG\n"
     ]
    },
    {
     "name": "stderr",
     "output_type": "stream",
     "text": [
      " 97%|█████████▋| 1295/1332 [00:06<00:00, 157.28it/s]"
     ]
    },
    {
     "name": "stdout",
     "output_type": "stream",
     "text": [
      "tomato_late_60.JPG\n",
      "tomato_late_795.JPG\n",
      "tomato_late_59.JPG\n",
      "tomato_early_121.JPG\n",
      "tomato_late_37.JPG\n",
      "tomato_early_45.JPG\n",
      "tomato_early_219.JPG\n",
      "tomato_late_40.JPG\n",
      "tomato_late_3.JPG\n",
      "tomato_healthy_415.JPG\n",
      "tomato_early_351.JPG\n",
      "tomato_late_841.JPG\n",
      "tomato_late_835.JPG\n",
      "tomato_healthy_243.JPG\n",
      "tomato_healthy_133.JPG\n",
      "tomato_early_275.JPG\n",
      "tomato_late_43.JPG\n",
      "tomato_healthy_151.JPG\n",
      "tomato_early_155.JPG\n"
     ]
    },
    {
     "name": "stderr",
     "output_type": "stream",
     "text": [
      "100%|██████████| 1332/1332 [00:06<00:00, 210.15it/s]"
     ]
    },
    {
     "name": "stdout",
     "output_type": "stream",
     "text": [
      "tomato_late_726.JPG\n",
      "tomato_late_183.JPG\n",
      "tomato_healthy_387.JPG\n",
      "tomato_late_360.JPG\n",
      "tomato_healthy_265.JPG\n",
      "tomato_late_269.JPG\n",
      "tomato_late_802.JPG\n",
      "tomato_late_728.JPG\n",
      "tomato_early_373.JPG\n",
      "tomato_late_803.JPG\n",
      "tomato_healthy_223.JPG\n",
      "tomato_late_822.JPG\n",
      "tomato_late_152.JPG\n",
      "tomato_healthy_429.JPG\n",
      "tomato_early_223.JPG\n",
      "tomato_late_812.JPG\n",
      "tomato_late_57.JPG\n"
     ]
    },
    {
     "name": "stderr",
     "output_type": "stream",
     "text": [
      "\n"
     ]
    }
   ],
   "source": [
    "base = '/kaggle/input/potato-tomato-dataset/idata/Image Dataset/test_data/test'\n",
    "for fname in tqdm.tqdm(os.listdir('/kaggle/input/potato-tomato-dataset/idata/Image Dataset/test_data/test')):\n",
    "    try:\n",
    "        if fname.split('_')[0]=='tomato':\n",
    "             if fname.split('_')[1]=='early':\n",
    "                    print(fname)\n",
    "                    shutil.copy(os.path.join(base,fname),'/kaggle/working/tmp/val/Early_Blight')\n",
    "             elif fname.split('_')[1]=='healthy':  \n",
    "                    print(fname)\n",
    "                    shutil.copy(os.path.join(base,fname),'/kaggle/working/tmp/val/Healthy')\n",
    "             elif fname.split('_')[1]=='late':    \n",
    "                    print(fname)\n",
    "                    shutil.copy(os.path.join(base,fname),'/kaggle/working/tmp/val/Late_Blight')\n",
    "    except IndexError :\n",
    "        continue\n",
    "        "
   ]
  },
  {
   "cell_type": "code",
   "execution_count": null,
   "id": "17db7b85",
   "metadata": {
    "papermill": {
     "duration": 0.278326,
     "end_time": "2023-05-07T09:10:00.953596",
     "exception": false,
     "start_time": "2023-05-07T09:10:00.675270",
     "status": "completed"
    },
    "tags": []
   },
   "outputs": [],
   "source": []
  }
 ],
 "metadata": {
  "kernelspec": {
   "display_name": "Python 3",
   "language": "python",
   "name": "python3"
  },
  "language_info": {
   "codemirror_mode": {
    "name": "ipython",
    "version": 3
   },
   "file_extension": ".py",
   "mimetype": "text/x-python",
   "name": "python",
   "nbconvert_exporter": "python",
   "pygments_lexer": "ipython3",
   "version": "3.10.10"
  },
  "papermill": {
   "default_parameters": {},
   "duration": 534.520489,
   "end_time": "2023-05-07T09:10:02.159319",
   "environment_variables": {},
   "exception": null,
   "input_path": "__notebook__.ipynb",
   "output_path": "__notebook__.ipynb",
   "parameters": {},
   "start_time": "2023-05-07T09:01:07.638830",
   "version": "2.4.0"
  }
 },
 "nbformat": 4,
 "nbformat_minor": 5
}

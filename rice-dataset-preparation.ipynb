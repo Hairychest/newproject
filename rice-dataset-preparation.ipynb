{
 "cells": [
  {
   "cell_type": "code",
   "execution_count": 1,
   "id": "44d64fed",
   "metadata": {
    "_cell_guid": "b1076dfc-b9ad-4769-8c92-a6c4dae69d19",
    "_uuid": "8f2839f25d086af736a60e9eeb907d3b93b6e0e5",
    "execution": {
     "iopub.execute_input": "2023-04-30T19:40:10.364114Z",
     "iopub.status.busy": "2023-04-30T19:40:10.363608Z",
     "iopub.status.idle": "2023-04-30T19:40:11.113120Z",
     "shell.execute_reply": "2023-04-30T19:40:11.112027Z"
    },
    "papermill": {
     "duration": 0.756125,
     "end_time": "2023-04-30T19:40:11.115707",
     "exception": false,
     "start_time": "2023-04-30T19:40:10.359582",
     "status": "completed"
    },
    "tags": []
   },
   "outputs": [],
   "source": [
    "\n",
    "import numpy as np # linear algebra\n",
    "import pandas as pd # data processing, CSV file I/O (e.g. pd.read_csv)\n",
    "import shutil\n",
    "import os\n",
    "from sklearn.model_selection import train_test_split"
   ]
  },
  {
   "cell_type": "code",
   "execution_count": 2,
   "id": "6bf32be3",
   "metadata": {
    "execution": {
     "iopub.execute_input": "2023-04-30T19:40:11.123682Z",
     "iopub.status.busy": "2023-04-30T19:40:11.123394Z",
     "iopub.status.idle": "2023-04-30T19:42:45.814540Z",
     "shell.execute_reply": "2023-04-30T19:42:45.813500Z"
    },
    "papermill": {
     "duration": 154.697491,
     "end_time": "2023-04-30T19:42:45.817220",
     "exception": false,
     "start_time": "2023-04-30T19:40:11.119729",
     "status": "completed"
    },
    "tags": []
   },
   "outputs": [],
   "source": [
    "try:\n",
    "    os.mkdir('/kaggle/working/tmp')\n",
    "    os.mkdir('/kaggle/working/tmp/train')\n",
    "    os.mkdir('/kaggle/working/tmp/val')\n",
    "    cat = ['Browon Spot','Healthy Leaf','Invalid','Leaf Blast']\n",
    "    for item in cat:\n",
    "        os.mkdir(f'/kaggle/working/tmp/train/{item}')\n",
    "        os.mkdir(f'/kaggle/working/tmp/val/{item}')\n",
    "except:\n",
    "    pass\n",
    "len1 = len(os.listdir('/kaggle/input/paddy-disease-classification/train_images/blast'))\n",
    "th = int(len1*0.85)\n",
    "for i,fname in enumerate(os.listdir('/kaggle/input/paddy-disease-classification/train_images/blast')):\n",
    "    name = 'Leaf Blast'\n",
    "    if i<th:\n",
    "        shutil.copy(f'/kaggle/input/paddy-disease-classification/train_images/blast/{fname}',f'/kaggle/working/tmp/train/{name}')\n",
    "    else:\n",
    "        shutil.copy(f'/kaggle/input/paddy-disease-classification/train_images/blast/{fname}',f'/kaggle/working/tmp/val/{name}')\n",
    "len1 = len(os.listdir('/kaggle/input/paddy-disease-classification/train_images/brown_spot'))\n",
    "th = int(len1*0.85)\n",
    "for i,fname in enumerate(os.listdir('/kaggle/input/paddy-disease-classification/train_images/brown_spot')):\n",
    "    name ='Browon Spot'\n",
    "    if i<th:\n",
    "        shutil.copy(f'/kaggle/input/paddy-disease-classification/train_images/brown_spot/{fname}',f'/kaggle/working/tmp/train/{name}')    \n",
    "    else:\n",
    "        shutil.copy(f'/kaggle/input/paddy-disease-classification/train_images/brown_spot/{fname}',f'/kaggle/working/tmp/val/{name}')    \n",
    "len1 = len(os.listdir('/kaggle/input/paddy-disease-classification/train_images/normal'))\n",
    "th = int(len1*0.8)\n",
    "for i,fname in enumerate(os.listdir('/kaggle/input/paddy-disease-classification/train_images/normal')):\n",
    "    \n",
    "    name = 'Healthy Leaf'\n",
    "    if i<th:\n",
    "        shutil.copy(f'/kaggle/input/paddy-disease-classification/train_images/normal/{fname}',f'/kaggle/working/tmp/train/{name}')     \n",
    "    else:\n",
    "        shutil.copy(f'/kaggle/input/paddy-disease-classification/train_images/normal/{fname}',f'/kaggle/working/tmp/val/{name}')    \n",
    "        \n",
    "dir_ =   '/kaggle/input/rice-diseases-leaf-blast-classification/Rice Diseases (Leaf Blast Classification)/Rice Diseases (Leaf Blast Classification)/'  \n",
    "for dire in [dir_+'train',dir_+'test',dir_+'val']:\n",
    "    for cat in os.listdir(dire):\n",
    "        if cat!='Invalid':\n",
    "            base =os.path.join(dire,cat)\n",
    "            for fname in os.listdir(base):\n",
    "                shutil.copy(os.path.join(base,fname),f'/kaggle/working/tmp/train/{cat}')\n",
    "dir_ =   '/kaggle/input/rice-diseases-leaf-blast-classification/Rice Diseases (Leaf Blast Classification)/Rice Diseases (Leaf Blast Classification)/'  \n",
    "for dire in [dir_+'test',dir_+'val']:\n",
    "        cat ='Invalid'\n",
    "        base =os.path.join(dire,cat)\n",
    "        for fname in os.listdir(base):\n",
    "            shutil.copy(os.path.join(base,fname),f'/kaggle/working/tmp/val/{cat}')            \n",
    "dir_ =   '/kaggle/input/rice-diseases-leaf-blast-classification/Rice Diseases (Leaf Blast Classification)/Rice Diseases (Leaf Blast Classification)/'  \n",
    "for dire in [dir_+'train']:\n",
    "        cat ='Invalid'\n",
    "        base =os.path.join(dire,cat)\n",
    "        for fname in os.listdir(base):\n",
    "            shutil.copy(os.path.join(base,fname),f'/kaggle/working/tmp/train/{cat}')              \n",
    "for fname in os.listdir('/kaggle/input/new-rice-1sdhd/RiceDiseases-DataSet-master/RiceDiseases-DataSet-master/blast/Orig'):\n",
    "    name = 'Leaf Blast'\n",
    "    if fname[-1] =='g':\n",
    "        shutil.copy(f'/kaggle/input/new-rice-1sdhd/RiceDiseases-DataSet-master/RiceDiseases-DataSet-master/blast/Orig/{fname}',f'/kaggle/working/tmp/train/{name}')\n",
    "for fname in os.listdir('/kaggle/input/new-rice-1sdhd/RiceDiseases-DataSet-master/RiceDiseases-DataSet-master/brownspot/orig'):\n",
    "    name = 'Browon Spot'\n",
    "    if fname[-1] =='g':\n",
    "        shutil.copy(f'/kaggle/input/new-rice-1sdhd/RiceDiseases-DataSet-master/RiceDiseases-DataSet-master/brownspot/orig/{fname}',f'/kaggle/working/tmp/train/{name}')\n",
    "            \n",
    "dir_ =   '/kaggle/input/new-rice-1sdhd/aaaa1/'  \n",
    "for dire in [dir_+'train',dir_+'test',dir_+'valid']: \n",
    "    base =os.path.join(dire,'Brown spot')\n",
    "    name = 'Browon Spot'\n",
    "    for fname in os.listdir(base):\n",
    "        shutil.copy(os.path.join(base,fname),f'/kaggle/working/tmp/train/{name}')\n",
    "        \n",
    "        "
   ]
  },
  {
   "cell_type": "code",
   "execution_count": 3,
   "id": "e0e710e9",
   "metadata": {
    "execution": {
     "iopub.execute_input": "2023-04-30T19:42:45.822818Z",
     "iopub.status.busy": "2023-04-30T19:42:45.822290Z",
     "iopub.status.idle": "2023-04-30T19:42:53.781808Z",
     "shell.execute_reply": "2023-04-30T19:42:53.780705Z"
    },
    "papermill": {
     "duration": 7.964759,
     "end_time": "2023-04-30T19:42:53.784253",
     "exception": false,
     "start_time": "2023-04-30T19:42:45.819494",
     "status": "completed"
    },
    "tags": []
   },
   "outputs": [],
   "source": [
    "\n",
    "dir_='/kaggle/input/new-rice-1sdhd/archive/RiceDiseaseDataset_yolo_test/images/'\n",
    "file_list=[]\n",
    "for dire in [dir_+'test',dir_+'train',dir_+'valid']:\n",
    "    for fname in os.listdir(dire):\n",
    "        file_list.append(os.path.join(dire,fname))\n",
    "file_name = [a.split('/')[-1].split('.')[0] for a in file_list]   \n",
    "df = pd.DataFrame(columns=['file','text_label'])\n",
    "dir_ ='/kaggle/input/new-rice-1sdhd/archive/RiceDiseaseDataset_yolo_test/labels/'\n",
    "i=0\n",
    "for dire in [dir_+'test',dir_+'train',dir_+'valid']:\n",
    "    for fname in os.listdir(dire):\n",
    "        with open(os.path.join(dire,fname),'r') as f:\n",
    "            l=int(f.readline()[0])\n",
    "        f.close()    \n",
    "        if l!=2:\n",
    "            txt = fname.split('.')[0]\n",
    "            ind = file_name.index(txt)\n",
    "            df.loc[i]=[file_list[ind],l]\n",
    "            i+=1\n",
    "map_dict ={1:'Leaf Blast',0:'Browon Spot'}\n",
    "df['text_label'] =    df['text_label'].apply(lambda x :map_dict[x])\n",
    "train, val = train_test_split(df,test_size=0.25,random_state=1,shuffle=True,stratify=df['text_label'])\n",
    "for ind, row in train.iterrows():\n",
    "    label =row['text_label']\n",
    "    shutil.copy(row['file'],f'/kaggle/working/tmp/train/{label}')\n",
    "for ind, row in val.iterrows():\n",
    "    label =row['text_label']\n",
    "    shutil.copy(row['file'],f'/kaggle/working/tmp/val/{label}')    "
   ]
  },
  {
   "cell_type": "code",
   "execution_count": 4,
   "id": "6284fa28",
   "metadata": {
    "execution": {
     "iopub.execute_input": "2023-04-30T19:42:53.789608Z",
     "iopub.status.busy": "2023-04-30T19:42:53.789289Z",
     "iopub.status.idle": "2023-04-30T19:42:57.530747Z",
     "shell.execute_reply": "2023-04-30T19:42:57.529781Z"
    },
    "papermill": {
     "duration": 3.746657,
     "end_time": "2023-04-30T19:42:57.533069",
     "exception": false,
     "start_time": "2023-04-30T19:42:53.786412",
     "status": "completed"
    },
    "tags": []
   },
   "outputs": [],
   "source": [
    "for fname in os.listdir('/kaggle/input/new-rice-1sdhd/znsxdctwtt-1/Dhan-Shomadhan/Field Background  /Rice Blast'):\n",
    "    name = 'Leaf Blast'\n",
    "    shutil.copy(f'/kaggle/input/new-rice-1sdhd/znsxdctwtt-1/Dhan-Shomadhan/Field Background  /Rice Blast/{fname}',f'/kaggle/working/tmp/train/{name}')\n",
    "for fname in os.listdir('/kaggle/input/new-rice-1sdhd/znsxdctwtt-1/Dhan-Shomadhan/Field Background  /Browon Spot'):\n",
    "    name ='Browon Spot'\n",
    "    shutil.copy(f'/kaggle/input/new-rice-1sdhd/znsxdctwtt-1/Dhan-Shomadhan/Field Background  /Browon Spot/{fname}',f'/kaggle/working/tmp/train/{name}')    "
   ]
  },
  {
   "cell_type": "code",
   "execution_count": 5,
   "id": "e8d5e972",
   "metadata": {
    "execution": {
     "iopub.execute_input": "2023-04-30T19:42:57.538981Z",
     "iopub.status.busy": "2023-04-30T19:42:57.538378Z",
     "iopub.status.idle": "2023-04-30T19:43:04.093227Z",
     "shell.execute_reply": "2023-04-30T19:43:04.092320Z"
    },
    "papermill": {
     "duration": 6.560146,
     "end_time": "2023-04-30T19:43:04.095566",
     "exception": false,
     "start_time": "2023-04-30T19:42:57.535420",
     "status": "completed"
    },
    "tags": []
   },
   "outputs": [],
   "source": [
    "len1 = len(os.listdir('/kaggle/input/new-rice-1sdhd/znsxdctwtt-1/Dhan-Shomadhan/White Background /Rice Blast'))\n",
    "th = int(len1*0.85)\n",
    "for i,fname in enumerate(os.listdir('/kaggle/input/new-rice-1sdhd/znsxdctwtt-1/Dhan-Shomadhan/White Background /Rice Blast')):\n",
    "    name = 'Leaf Blast'\n",
    "    if i<th:\n",
    "        shutil.copy(f'/kaggle/input/new-rice-1sdhd/znsxdctwtt-1/Dhan-Shomadhan/White Background /Rice Blast/{fname}',f'/kaggle/working/tmp/train/{name}')\n",
    "    else:\n",
    "        shutil.copy(f'/kaggle/input/new-rice-1sdhd/znsxdctwtt-1/Dhan-Shomadhan/White Background /Rice Blast/{fname}',f'/kaggle/working/tmp/val/{name}')   \n",
    "len1 = len(os.listdir('/kaggle/input/new-rice-1sdhd/znsxdctwtt-1/Dhan-Shomadhan/White Background /Brown Spot'))\n",
    "th = int(len1*0.85)\n",
    "for i,fname in enumerate(os.listdir('/kaggle/input/new-rice-1sdhd/znsxdctwtt-1/Dhan-Shomadhan/White Background /Brown Spot')):\n",
    "    name ='Browon Spot'\n",
    "    if i<th:\n",
    "        shutil.copy(f'/kaggle/input/new-rice-1sdhd/znsxdctwtt-1/Dhan-Shomadhan/White Background /Brown Spot/{fname}',f'/kaggle/working/tmp/train/{name}')  \n",
    "    else:\n",
    "        shutil.copy(f'/kaggle/input/new-rice-1sdhd/znsxdctwtt-1/Dhan-Shomadhan/White Background /Brown Spot/{fname}',f'/kaggle/working/tmp/val/{name}')  \n",
    "        "
   ]
  }
 ],
 "metadata": {
  "kernelspec": {
   "display_name": "Python 3",
   "language": "python",
   "name": "python3"
  },
  "language_info": {
   "codemirror_mode": {
    "name": "ipython",
    "version": 3
   },
   "file_extension": ".py",
   "mimetype": "text/x-python",
   "name": "python",
   "nbconvert_exporter": "python",
   "pygments_lexer": "ipython3",
   "version": "3.7.12"
  },
  "papermill": {
   "default_parameters": {},
   "duration": 182.24602,
   "end_time": "2023-04-30T19:43:04.616896",
   "environment_variables": {},
   "exception": null,
   "input_path": "__notebook__.ipynb",
   "output_path": "__notebook__.ipynb",
   "parameters": {},
   "start_time": "2023-04-30T19:40:02.370876",
   "version": "2.4.0"
  }
 },
 "nbformat": 4,
 "nbformat_minor": 5
}
